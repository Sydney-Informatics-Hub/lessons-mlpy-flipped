{
 "cells": [
  {
   "cell_type": "markdown",
   "metadata": {
    "pycharm": {}
   },
   "source": [
    "!!! questions \"Questions\"\n",
    "    - How do we preprocess our data for modelling?\n",
    "    - How do we fit a basic linear model using scikit-learn?\n",
    "    \n",
    "!!! objectives \"Objectives\"\n",
    "    - To use sklearn.preprocessing to preprocess our data\n",
    "    - To fit and compare some basic linear models using one, two, \n",
    "      or all of the variables in the dataset\n",
    "\n",
    "## Linear regression"
   ]
  },
  {
   "cell_type": "code",
   "execution_count": 1,
   "metadata": {
    "execution": {
     "iopub.execute_input": "2023-04-06T04:54:17.742881Z",
     "iopub.status.busy": "2023-04-06T04:54:17.742179Z",
     "iopub.status.idle": "2023-04-06T04:54:18.590518Z",
     "shell.execute_reply": "2023-04-06T04:54:18.590134Z"
    },
    "pycharm": {
     "is_executing": false
    }
   },
   "outputs": [],
   "source": [
    "# when delivering live coding, these libraries have already been loaded\n",
    "import os\n",
    "current_work_dir = %pwd\n",
    "MLPy_ROOT = current_work_dir.split('course')[0]\n",
    "NOTEBOOK_FOLDER = os.path.join(MLPy_ROOT, 'course',  'notebooks')\n",
    "MODELS_FOLDER = os.path.join(NOTEBOOK_FOLDER, 'models')\n",
    "\n",
    "import numpy as np\n",
    "import pandas as pd\n",
    "import statsmodels.api as sm\n",
    "import matplotlib.pyplot as plt\n",
    "import seaborn as sns\n",
    "\n",
    "%matplotlib inline\n",
    "sns.set(font_scale = 1.5)\n",
    "\n",
    "# do import these for the next sections to work:\n",
    "from scipy.special import exp10\n",
    "from pandas.api.types import CategoricalDtype\n",
    "import pickle \n",
    "\n",
    "from sklearn.preprocessing import (\n",
    "    StandardScaler, PolynomialFeatures, FunctionTransformer\n",
    ")\n",
    "\n",
    "from sklearn.model_selection import train_test_split\n",
    "from sklearn.model_selection import GridSearchCV, RandomizedSearchCV\n",
    "\n",
    "from sklearn.metrics import mean_squared_error, r2_score,  mean_absolute_error\n",
    "from sklearn.linear_model import LinearRegression, LassoCV, RidgeCV, ElasticNetCV\n",
    "\n",
    "# make the models folder if it doesn't exist\n",
    "model_path = 'models'\n",
    "if not os.path.exists(model_path):\n",
    "    os.mkdir(model_path)"
   ]
  },
  {
   "cell_type": "markdown",
   "metadata": {},
   "source": [
    "Define some functions to help us one hot encode variables, group together infrequently occuring cases, and create a \"none of this feature\" column."
   ]
  },
  {
   "cell_type": "code",
   "execution_count": 2,
   "metadata": {
    "execution": {
     "iopub.execute_input": "2023-04-06T04:54:18.592430Z",
     "iopub.status.busy": "2023-04-06T04:54:18.592276Z",
     "iopub.status.idle": "2023-04-06T04:54:18.594949Z",
     "shell.execute_reply": "2023-04-06T04:54:18.594713Z"
    },
    "pycharm": {
     "is_executing": false
    }
   },
   "outputs": [],
   "source": [
    "# do live code the next code chunk\n",
    "def onehot_row_drop(df, column = 'column'):\n",
    "    dummies = pd.get_dummies(df[column], drop_first=True, prefix=column)\n",
    "    df = pd.concat([df.drop(column, axis=1), dummies],axis=1)\n",
    "    return(df)\n",
    "\n",
    "def group_infrequent(df, column_name, counts = 10):\n",
    "    frequencies = df[column_name].value_counts()\n",
    "    infrequent = frequencies[frequencies <= counts].index\n",
    "    df.loc[df[column_name].isin(infrequent), column_name] = \"Other\"\n",
    "\n",
    "def none_of_this_feature(df, column = 'column'):\n",
    "    # adds a column to the dataframe with a value of 0 where there is none of this feature,\n",
    "    # and a 1 where it's actually there\n",
    "    df['No_' + column] = np.where(df[column]==0, 0, 1)\n",
    "    return(df)"
   ]
  },
  {
   "cell_type": "code",
   "execution_count": 3,
   "metadata": {
    "execution": {
     "iopub.execute_input": "2023-04-06T04:54:18.596370Z",
     "iopub.status.busy": "2023-04-06T04:54:18.596285Z",
     "iopub.status.idle": "2023-04-06T04:54:18.615069Z",
     "shell.execute_reply": "2023-04-06T04:54:18.614837Z"
    },
    "pycharm": {
     "is_executing": false
    }
   },
   "outputs": [],
   "source": [
    "# you don't need to reload the data\n",
    "# this is just here to make the note generation work\n",
    "ames_clean = pd.read_csv('data/AmesHousingClean.csv')\n",
    "ames_clean = ames_clean.loc[ames_clean['Gr_Liv_Area'] <= 4000, :]"
   ]
  },
  {
   "cell_type": "code",
   "execution_count": 4,
   "metadata": {
    "execution": {
     "iopub.execute_input": "2023-04-06T04:54:18.616599Z",
     "iopub.status.busy": "2023-04-06T04:54:18.616524Z",
     "iopub.status.idle": "2023-04-06T04:54:18.703609Z",
     "shell.execute_reply": "2023-04-06T04:54:18.703360Z"
    },
    "pycharm": {
     "is_executing": false
    }
   },
   "outputs": [],
   "source": [
    "# But DO copy-paste the below code to proceed to the challenge\n",
    "# step 1\n",
    "ames_clean['Age'] = ames_clean['Year_Sold'].max() - ames_clean['Year_Built']\n",
    "ames_clean['Remodel_Age'] = ames_clean['Year_Sold'].max() - ames_clean['Year_Remod_Add']\n",
    "ames_clean['Misc_Feature_Present'] =  np.where(ames_clean['Misc_Feature']==\"None\", 0, 1)\n",
    "\n",
    "\n",
    "# step 2\n",
    "# group situations where there are less than 20 cases of something\n",
    "infrequent_cols = [\n",
    "    'Neighborhood', 'Roof_Matl', 'Exterior_1st', 'Exterior_2nd', \n",
    "    'Heating', 'MS_Zoning', 'Misc_Feature', 'Sale_Type'\n",
    "]\n",
    "for col in infrequent_cols:\n",
    "    group_infrequent(df=ames_clean, column_name=col, counts=20)\n",
    "\n",
    "\n",
    "# Capture variables where some houses have \"none of this feature\" (i.e value of parameter = 0 aka zero-inflation)\n",
    "none_of_feature = [\n",
    "    'Second_Flr_SF','Three_season_porch','BsmtFin_SF_2','Bsmt_Unf_SF',\n",
    "    'Enclosed_Porch','Low_Qual_Fin_SF', 'Mas_Vnr_Area','Lot_Frontage',\n",
    "    'Open_Porch_SF','Screen_Porch','Pool_Area','Wood_Deck_SF', \n",
    "]\n",
    "for col in none_of_feature:\n",
    "    ames_clean = none_of_this_feature(df = ames_clean, column=col)\n",
    "    \n",
    "# step 3\n",
    "categorical_variable_list = [\n",
    "    'Alley', 'Bldg_Type', 'Condition_1', 'Electrical', 'Exter_Cond', 'Exter_Qual', \n",
    "    'Foundation', 'Functional', 'House_Style', 'Kitchen_Qual', 'Land_Contour', \n",
    "    'Land_Slope', 'Lot_Config', 'Lot_Shape', 'Central_Air', 'Bsmt_Cond', \n",
    "    'Bsmt_Exposure', 'BsmtFin_Type_1', 'BsmtFin_Type_2', 'Bsmt_Qual', 'Fence', \n",
    "    'Fireplace_Qu', 'Garage_Cond', 'Garage_Finish', 'Garage_Type', 'Heating_QC',  \n",
    "    'MS_SubClass',  'Overall_Cond', 'Overall_Qual', \n",
    "    'Paved_Drive', 'Roof_Style', 'Year_Sold', 'Neighborhood', 'Roof_Matl', 'Exterior_2nd',\n",
    "    'Exterior_1st', 'Heating', 'MS_Zoning', 'Misc_Feature', 'Street', \n",
    "    'Mas_Vnr_Type', 'Utilities',\"Condition_2\", \"Pool_QC\", \"Garage_Qual\", 'Sale_Type', \n",
    "    'Sale_Condition'\n",
    "]\n",
    "\n",
    "# step 4\n",
    "# one hot encode the other categoricals\n",
    "for col in categorical_variable_list:\n",
    "    ames_clean = onehot_row_drop(df = ames_clean, column=col)\n",
    "\n",
    "# step 5\n",
    "# drop double no basement: (ranges from 80 to 83 in dataset, going with 80)\n",
    "columns_to_drop = [\n",
    "    'Bsmt_Exposure_No_Basement','BsmtFin_Type_2_No_Basement','Bsmt_Qual_No_Basement',\n",
    "    'Garage_Finish_No_Garage','Garage_Type_No_Garage','Garage_Qual_No_Garage',\n",
    "    'Year_Built','Year_Remod_Add',\n",
    "]\n",
    "ames_clean = ames_clean.drop(columns_to_drop, axis=1)"
   ]
  },
  {
   "cell_type": "markdown",
   "metadata": {},
   "source": [
    "!!! challenge \"Challenge 1\"\n",
    "    Look at the code above. Can you explain why each of these transformations is being carried out? \n",
    "    See if you can figure out, in your groups, what each of the steps is doing."
   ]
  },
  {
   "cell_type": "markdown",
   "metadata": {
    "pycharm": {}
   },
   "source": [
    "Add a column to the dataset to split the Sale Price by percentile into 10 bins:"
   ]
  },
  {
   "cell_type": "code",
   "execution_count": 5,
   "metadata": {
    "execution": {
     "iopub.execute_input": "2023-04-06T04:54:18.705127Z",
     "iopub.status.busy": "2023-04-06T04:54:18.705053Z",
     "iopub.status.idle": "2023-04-06T04:54:18.707592Z",
     "shell.execute_reply": "2023-04-06T04:54:18.707386Z"
    },
    "pycharm": {}
   },
   "outputs": [],
   "source": [
    "ames_clean['Sale_Price_quantile'] =  pd.qcut(\n",
    "    ames_clean['Sale_Price'],\n",
    "    10,\n",
    "    labels=range(10)\n",
    ")"
   ]
  },
  {
   "cell_type": "markdown",
   "metadata": {
    "pycharm": {}
   },
   "source": [
    "Now we can use scikit-learn's train-test split to split the data into a training and testing subset, stratifying it by the percentile bin of the Sale_Price:"
   ]
  },
  {
   "cell_type": "code",
   "execution_count": 6,
   "metadata": {
    "execution": {
     "iopub.execute_input": "2023-04-06T04:54:18.708948Z",
     "iopub.status.busy": "2023-04-06T04:54:18.708881Z",
     "iopub.status.idle": "2023-04-06T04:54:18.716255Z",
     "shell.execute_reply": "2023-04-06T04:54:18.716003Z"
    },
    "pycharm": {}
   },
   "outputs": [],
   "source": [
    "index_train, index_test  = train_test_split(\n",
    "    ames_clean.index.values, train_size=0.7, test_size = 0.3, \n",
    "    stratify = ames_clean['Sale_Price_quantile'].values, random_state=42\n",
    ")\n",
    "\n",
    "# get rid of the quartile column so we're not using it to predict sale price\n",
    "ames_clean = ames_clean.drop('Sale_Price_quantile', axis = 1)\n",
    "\n",
    "# Create variables for the training and test sets \n",
    "ames_train = ames_clean.loc[index_train,:].copy()\n",
    "ames_test = ames_clean.loc[index_test,:].copy()"
   ]
  },
  {
   "cell_type": "code",
   "execution_count": 7,
   "metadata": {
    "execution": {
     "iopub.execute_input": "2023-04-06T04:54:18.717637Z",
     "iopub.status.busy": "2023-04-06T04:54:18.717557Z",
     "iopub.status.idle": "2023-04-06T04:54:18.719411Z",
     "shell.execute_reply": "2023-04-06T04:54:18.719168Z"
    },
    "pycharm": {}
   },
   "outputs": [
    {
     "name": "stdout",
     "output_type": "stream",
     "text": [
      "(2047, 285)\n",
      "(878, 285)\n"
     ]
    }
   ],
   "source": [
    "# What are their dimensions?\n",
    "print(ames_train.shape)\n",
    "print(ames_test.shape)"
   ]
  },
  {
   "cell_type": "markdown",
   "metadata": {
    "pycharm": {}
   },
   "source": [
    "Get a list of predictor names and make numpy matrices of the data:"
   ]
  },
  {
   "cell_type": "code",
   "execution_count": 8,
   "metadata": {
    "execution": {
     "iopub.execute_input": "2023-04-06T04:54:18.720742Z",
     "iopub.status.busy": "2023-04-06T04:54:18.720663Z",
     "iopub.status.idle": "2023-04-06T04:54:18.722740Z",
     "shell.execute_reply": "2023-04-06T04:54:18.722527Z"
    },
    "pycharm": {}
   },
   "outputs": [],
   "source": [
    "predictors = ames_clean.columns.values.tolist()\n",
    "predictors.remove('Sale_Price')\n",
    "\n",
    "# this is extra, to help keep  the train/test consistent between different page renders\n",
    "# in jekyll. Not necessary for teaching\n",
    "pickle.dump(predictors, open(os.path.join(MODELS_FOLDER, 'predictors.pickle'), 'wb'))"
   ]
  },
  {
   "cell_type": "code",
   "execution_count": 9,
   "metadata": {
    "execution": {
     "iopub.execute_input": "2023-04-06T04:54:18.723998Z",
     "iopub.status.busy": "2023-04-06T04:54:18.723931Z",
     "iopub.status.idle": "2023-04-06T04:54:18.725427Z",
     "shell.execute_reply": "2023-04-06T04:54:18.725189Z"
    }
   },
   "outputs": [],
   "source": [
    "# define a transformation function for the Y\n",
    "log_transf_f = FunctionTransformer(\n",
    "    func=np.log10,\n",
    "    inverse_func=exp10,\n",
    "    validate=True\n",
    ")"
   ]
  },
  {
   "cell_type": "code",
   "execution_count": 10,
   "metadata": {
    "execution": {
     "iopub.execute_input": "2023-04-06T04:54:18.726701Z",
     "iopub.status.busy": "2023-04-06T04:54:18.726622Z",
     "iopub.status.idle": "2023-04-06T04:54:18.731555Z",
     "shell.execute_reply": "2023-04-06T04:54:18.731343Z"
    },
    "pycharm": {}
   },
   "outputs": [],
   "source": [
    "# Create training and test response vectors\n",
    "ames_train_y = log_transf_f.fit_transform(ames_train['Sale_Price'].values.reshape(-1, 1))\n",
    "ames_test_y = log_transf_f.transform(ames_test['Sale_Price'].values.reshape(-1, 1))\n",
    "\n",
    "# Write training and test design matrices\n",
    "ames_train_X = ames_train[predictors].copy()\n",
    "ames_test_X = ames_test[predictors].copy()\n",
    "\n",
    "\n",
    "# save them to files as well (this is an extra step that's not necessary in class, but useful for our jupyter notebook class notes)\n",
    "pickle.dump(ames_train_y, open(os.path.join(MODELS_FOLDER, 'ames_train_y.pickle'), 'wb'))\n",
    "pickle.dump(ames_test_y, open(os.path.join(MODELS_FOLDER, 'ames_test_y.pickle'), 'wb'))\n",
    "pickle.dump(ames_train_X, open(os.path.join(MODELS_FOLDER, 'ames_train_X.pickle'), 'wb'))\n",
    "pickle.dump(ames_test_X, open(os.path.join(MODELS_FOLDER, 'ames_test_X.pickle'), 'wb'))"
   ]
  },
  {
   "cell_type": "code",
   "execution_count": 11,
   "metadata": {
    "execution": {
     "iopub.execute_input": "2023-04-06T04:54:18.732912Z",
     "iopub.status.busy": "2023-04-06T04:54:18.732840Z",
     "iopub.status.idle": "2023-04-06T04:54:18.735167Z",
     "shell.execute_reply": "2023-04-06T04:54:18.734937Z"
    }
   },
   "outputs": [
    {
     "data": {
      "text/plain": [
       "pandas.core.frame.DataFrame"
      ]
     },
     "execution_count": 11,
     "metadata": {},
     "output_type": "execute_result"
    }
   ],
   "source": [
    "type(ames_train_X)"
   ]
  },
  {
   "cell_type": "code",
   "execution_count": 12,
   "metadata": {
    "execution": {
     "iopub.execute_input": "2023-04-06T04:54:18.736487Z",
     "iopub.status.busy": "2023-04-06T04:54:18.736406Z",
     "iopub.status.idle": "2023-04-06T04:54:18.738232Z",
     "shell.execute_reply": "2023-04-06T04:54:18.738012Z"
    }
   },
   "outputs": [
    {
     "data": {
      "text/plain": [
       "numpy.ndarray"
      ]
     },
     "execution_count": 12,
     "metadata": {},
     "output_type": "execute_result"
    }
   ],
   "source": [
    "type(ames_train_y)"
   ]
  },
  {
   "cell_type": "markdown",
   "metadata": {},
   "source": [
    "## Fit OLS models with different features"
   ]
  },
  {
   "cell_type": "code",
   "execution_count": 13,
   "metadata": {
    "execution": {
     "iopub.execute_input": "2023-04-06T04:54:18.739499Z",
     "iopub.status.busy": "2023-04-06T04:54:18.739417Z",
     "iopub.status.idle": "2023-04-06T04:54:18.797742Z",
     "shell.execute_reply": "2023-04-06T04:54:18.796317Z"
    },
    "pycharm": {}
   },
   "outputs": [
    {
     "data": {
      "text/html": [
       "<style>#sk-container-id-1 {color: black;background-color: white;}#sk-container-id-1 pre{padding: 0;}#sk-container-id-1 div.sk-toggleable {background-color: white;}#sk-container-id-1 label.sk-toggleable__label {cursor: pointer;display: block;width: 100%;margin-bottom: 0;padding: 0.3em;box-sizing: border-box;text-align: center;}#sk-container-id-1 label.sk-toggleable__label-arrow:before {content: \"▸\";float: left;margin-right: 0.25em;color: #696969;}#sk-container-id-1 label.sk-toggleable__label-arrow:hover:before {color: black;}#sk-container-id-1 div.sk-estimator:hover label.sk-toggleable__label-arrow:before {color: black;}#sk-container-id-1 div.sk-toggleable__content {max-height: 0;max-width: 0;overflow: hidden;text-align: left;background-color: #f0f8ff;}#sk-container-id-1 div.sk-toggleable__content pre {margin: 0.2em;color: black;border-radius: 0.25em;background-color: #f0f8ff;}#sk-container-id-1 input.sk-toggleable__control:checked~div.sk-toggleable__content {max-height: 200px;max-width: 100%;overflow: auto;}#sk-container-id-1 input.sk-toggleable__control:checked~label.sk-toggleable__label-arrow:before {content: \"▾\";}#sk-container-id-1 div.sk-estimator input.sk-toggleable__control:checked~label.sk-toggleable__label {background-color: #d4ebff;}#sk-container-id-1 div.sk-label input.sk-toggleable__control:checked~label.sk-toggleable__label {background-color: #d4ebff;}#sk-container-id-1 input.sk-hidden--visually {border: 0;clip: rect(1px 1px 1px 1px);clip: rect(1px, 1px, 1px, 1px);height: 1px;margin: -1px;overflow: hidden;padding: 0;position: absolute;width: 1px;}#sk-container-id-1 div.sk-estimator {font-family: monospace;background-color: #f0f8ff;border: 1px dotted black;border-radius: 0.25em;box-sizing: border-box;margin-bottom: 0.5em;}#sk-container-id-1 div.sk-estimator:hover {background-color: #d4ebff;}#sk-container-id-1 div.sk-parallel-item::after {content: \"\";width: 100%;border-bottom: 1px solid gray;flex-grow: 1;}#sk-container-id-1 div.sk-label:hover label.sk-toggleable__label {background-color: #d4ebff;}#sk-container-id-1 div.sk-serial::before {content: \"\";position: absolute;border-left: 1px solid gray;box-sizing: border-box;top: 0;bottom: 0;left: 50%;z-index: 0;}#sk-container-id-1 div.sk-serial {display: flex;flex-direction: column;align-items: center;background-color: white;padding-right: 0.2em;padding-left: 0.2em;position: relative;}#sk-container-id-1 div.sk-item {position: relative;z-index: 1;}#sk-container-id-1 div.sk-parallel {display: flex;align-items: stretch;justify-content: center;background-color: white;position: relative;}#sk-container-id-1 div.sk-item::before, #sk-container-id-1 div.sk-parallel-item::before {content: \"\";position: absolute;border-left: 1px solid gray;box-sizing: border-box;top: 0;bottom: 0;left: 50%;z-index: -1;}#sk-container-id-1 div.sk-parallel-item {display: flex;flex-direction: column;z-index: 1;position: relative;background-color: white;}#sk-container-id-1 div.sk-parallel-item:first-child::after {align-self: flex-end;width: 50%;}#sk-container-id-1 div.sk-parallel-item:last-child::after {align-self: flex-start;width: 50%;}#sk-container-id-1 div.sk-parallel-item:only-child::after {width: 0;}#sk-container-id-1 div.sk-dashed-wrapped {border: 1px dashed gray;margin: 0 0.4em 0.5em 0.4em;box-sizing: border-box;padding-bottom: 0.4em;background-color: white;}#sk-container-id-1 div.sk-label label {font-family: monospace;font-weight: bold;display: inline-block;line-height: 1.2em;}#sk-container-id-1 div.sk-label-container {text-align: center;}#sk-container-id-1 div.sk-container {/* jupyter's `normalize.less` sets `[hidden] { display: none; }` but bootstrap.min.css set `[hidden] { display: none !important; }` so we also need the `!important` here to be able to override the default hidden behavior on the sphinx rendered scikit-learn.org. See: https://github.com/scikit-learn/scikit-learn/issues/21755 */display: inline-block !important;position: relative;}#sk-container-id-1 div.sk-text-repr-fallback {display: none;}</style><div id=\"sk-container-id-1\" class=\"sk-top-container\"><div class=\"sk-text-repr-fallback\"><pre>LinearRegression()</pre><b>In a Jupyter environment, please rerun this cell to show the HTML representation or trust the notebook. <br />On GitHub, the HTML representation is unable to render, please try loading this page with nbviewer.org.</b></div><div class=\"sk-container\" hidden><div class=\"sk-item\"><div class=\"sk-estimator sk-toggleable\"><input class=\"sk-toggleable__control sk-hidden--visually\" id=\"sk-estimator-id-1\" type=\"checkbox\" checked><label for=\"sk-estimator-id-1\" class=\"sk-toggleable__label sk-toggleable__label-arrow\">LinearRegression</label><div class=\"sk-toggleable__content\"><pre>LinearRegression()</pre></div></div></div></div></div>"
      ],
      "text/plain": [
       "LinearRegression()"
      ]
     },
     "execution_count": 13,
     "metadata": {},
     "output_type": "execute_result"
    }
   ],
   "source": [
    "# Fit an Ordinary Least Squares Regression using all variables\n",
    "# fit_intercept = True is the default option,\n",
    "# we don't need to specify it in other regressions \n",
    "ames_ols_all = LinearRegression(fit_intercept=True)\n",
    "ames_ols_all.fit(ames_train_X, ames_train_y)\n",
    "\n",
    "# Fit an Ordinary Least Squares Regression using \"Gr_Liv_Area\"\n",
    "ames_ols_GrLivArea = LinearRegression()\n",
    "# Note: need [] around the column name so it is kept as a dataframe\n",
    "ames_ols_GrLivArea.fit(ames_train_X.loc[:, ['Gr_Liv_Area']], ames_train_y)\n",
    "\n",
    "# Fit an Ordinary Least Squares Regression using \"Second_Flr_SF\"\n",
    "ames_ols_Second_Flr_SF = LinearRegression()\n",
    "ames_ols_Second_Flr_SF.fit(ames_train_X.loc[:, ['Second_Flr_SF']], ames_train_y)\n",
    "\n",
    "# Fit an Ordinary Least Squares Regression using \"Gr_Liv_Area\" and \"Second_Flr_SF\"\n",
    "ames_ols_GrLivArea_Second_Flr_SF = LinearRegression()\n",
    "ames_ols_GrLivArea_Second_Flr_SF.fit(ames_train_X[['Gr_Liv_Area','Second_Flr_SF']], ames_train_y)\n",
    "\n",
    "# Fit an Ordinary Least Squares Regression using \"Gr_Liv_Area\" and \"Age\"\n",
    "ames_ols_GrLivArea_Age = LinearRegression()\n",
    "ames_ols_GrLivArea_Age.fit(ames_train_X[['Gr_Liv_Area','Age']], ames_train_y)"
   ]
  },
  {
   "cell_type": "code",
   "execution_count": 14,
   "metadata": {
    "execution": {
     "iopub.execute_input": "2023-04-06T04:54:18.805598Z",
     "iopub.status.busy": "2023-04-06T04:54:18.804205Z",
     "iopub.status.idle": "2023-04-06T04:54:18.814482Z",
     "shell.execute_reply": "2023-04-06T04:54:18.812377Z"
    }
   },
   "outputs": [
    {
     "data": {
      "text/plain": [
       "(array([4.75028356]), array([[ 0.00034821, -0.00015031]]))"
      ]
     },
     "execution_count": 14,
     "metadata": {},
     "output_type": "execute_result"
    }
   ],
   "source": [
    "ames_ols_GrLivArea_Second_Flr_SF.intercept_, ames_ols_GrLivArea_Second_Flr_SF.coef_"
   ]
  },
  {
   "cell_type": "markdown",
   "metadata": {
    "pycharm": {}
   },
   "source": [
    "## Assess model fit"
   ]
  },
  {
   "cell_type": "markdown",
   "metadata": {},
   "source": [
    "Assess model fit on the training data:"
   ]
  },
  {
   "cell_type": "code",
   "execution_count": 15,
   "metadata": {
    "execution": {
     "iopub.execute_input": "2023-04-06T04:54:18.822876Z",
     "iopub.status.busy": "2023-04-06T04:54:18.822490Z",
     "iopub.status.idle": "2023-04-06T04:54:18.853505Z",
     "shell.execute_reply": "2023-04-06T04:54:18.852581Z"
    },
    "pycharm": {
     "is_executing": false
    }
   },
   "outputs": [
    {
     "name": "stderr",
     "output_type": "stream",
     "text": [
      "/Users/mmat6620/.mambaforge/envs/mlpy/lib/python3.11/site-packages/sklearn/base.py:439: UserWarning: X does not have valid feature names, but LinearRegression was fitted with feature names\n",
      "  warnings.warn(\n",
      "/Users/mmat6620/.mambaforge/envs/mlpy/lib/python3.11/site-packages/sklearn/base.py:439: UserWarning: X does not have valid feature names, but LinearRegression was fitted with feature names\n",
      "  warnings.warn(\n"
     ]
    },
    {
     "data": {
      "text/html": [
       "<div>\n",
       "<style scoped>\n",
       "    .dataframe tbody tr th:only-of-type {\n",
       "        vertical-align: middle;\n",
       "    }\n",
       "\n",
       "    .dataframe tbody tr th {\n",
       "        vertical-align: top;\n",
       "    }\n",
       "\n",
       "    .dataframe thead th {\n",
       "        text-align: right;\n",
       "    }\n",
       "</style>\n",
       "<table border=\"1\" class=\"dataframe\">\n",
       "  <thead>\n",
       "    <tr style=\"text-align: right;\">\n",
       "      <th></th>\n",
       "      <th>RMSE</th>\n",
       "      <th>R2</th>\n",
       "      <th>MAE</th>\n",
       "    </tr>\n",
       "  </thead>\n",
       "  <tbody>\n",
       "    <tr>\n",
       "      <th>All</th>\n",
       "      <td>15751.090</td>\n",
       "      <td>0.961</td>\n",
       "      <td>10933.508</td>\n",
       "    </tr>\n",
       "    <tr>\n",
       "      <th>[Gr_Liv_Area, Age]</th>\n",
       "      <td>42838.016</td>\n",
       "      <td>0.709</td>\n",
       "      <td>29175.241</td>\n",
       "    </tr>\n",
       "    <tr>\n",
       "      <th>[Gr_Liv_Area, Second_Flr_SF]</th>\n",
       "      <td>54774.347</td>\n",
       "      <td>0.524</td>\n",
       "      <td>36413.963</td>\n",
       "    </tr>\n",
       "    <tr>\n",
       "      <th>Gr_Liv_Area</th>\n",
       "      <td>57157.444</td>\n",
       "      <td>0.481</td>\n",
       "      <td>39045.817</td>\n",
       "    </tr>\n",
       "    <tr>\n",
       "      <th>Second_Flr_SF</th>\n",
       "      <td>78064.434</td>\n",
       "      <td>0.033</td>\n",
       "      <td>53060.044</td>\n",
       "    </tr>\n",
       "  </tbody>\n",
       "</table>\n",
       "</div>"
      ],
      "text/plain": [
       "                                   RMSE     R2        MAE\n",
       "All                           15751.090  0.961  10933.508\n",
       "[Gr_Liv_Area, Age]            42838.016  0.709  29175.241\n",
       "[Gr_Liv_Area, Second_Flr_SF]  54774.347  0.524  36413.963\n",
       "Gr_Liv_Area                   57157.444  0.481  39045.817\n",
       "Second_Flr_SF                 78064.434  0.033  53060.044"
      ]
     },
     "execution_count": 15,
     "metadata": {},
     "output_type": "execute_result"
    }
   ],
   "source": [
    "## Paste the function below, then go slowly through how it is built up\n",
    "def assess_fit_vars(models, variables, datasetX, datasetY):\n",
    "    columns = ['RMSE', 'R2', 'MAE']\n",
    "    results = pd.DataFrame(0.0, columns=columns, index=variables)\n",
    "    # compute the actual Y\n",
    "    y_actual = log_transf_f.inverse_transform(datasetY)\n",
    "    for i, method in enumerate(models):\n",
    "        if variables[i] != \"All\":\n",
    "            tmp_dataset_X = datasetX[variables[i]]\n",
    "            if type(variables[i]) == str: #only one column - so need to reshape\n",
    "                tmp_dataset_X = datasetX[variables[i]].values.reshape(-1, 1)\n",
    "        else:\n",
    "            tmp_dataset_X = datasetX\n",
    "        # while we build the model and predict on the log10Transformed sale price,\n",
    "        # we display the error in dollars as that makes more sense\n",
    "        y_pred = log_transf_f.inverse_transform(method.predict(tmp_dataset_X))\n",
    "        results.iloc[i,0] = np.sqrt(\n",
    "            mean_squared_error(y_actual, y_pred))\n",
    "        results.iloc[i,1] = r2_score(y_actual, y_pred)\n",
    "        results.iloc[i,2] = mean_absolute_error(y_actual, y_pred)\n",
    "    return results.round(3)\n",
    "\n",
    "models = [\n",
    "    ames_ols_all, ames_ols_GrLivArea, ames_ols_Second_Flr_SF, \n",
    "    ames_ols_GrLivArea_Age, ames_ols_GrLivArea_Second_Flr_SF\n",
    "]\n",
    "\n",
    "variables = [\n",
    "    \"All\", 'Gr_Liv_Area','Second_Flr_SF',\n",
    "    ['Gr_Liv_Area', 'Age'], ['Gr_Liv_Area', 'Second_Flr_SF']\n",
    "]\n",
    "\n",
    "compare_train = assess_fit_vars(\n",
    "    models=models,\n",
    "    variables=variables, \n",
    "    datasetX=ames_train_X, \n",
    "    datasetY=ames_train_y\n",
    ")\n",
    "compare_train.sort_values('RMSE')"
   ]
  },
  {
   "cell_type": "markdown",
   "metadata": {},
   "source": [
    "Let's built a comparison plot"
   ]
  },
  {
   "cell_type": "code",
   "execution_count": 16,
   "metadata": {
    "execution": {
     "iopub.execute_input": "2023-04-06T04:54:18.858979Z",
     "iopub.status.busy": "2023-04-06T04:54:18.858371Z",
     "iopub.status.idle": "2023-04-06T04:54:18.863532Z",
     "shell.execute_reply": "2023-04-06T04:54:18.862723Z"
    }
   },
   "outputs": [],
   "source": [
    "# rearrange the scores df to for the plot\n",
    "def rearrange_df(df):\n",
    "    out_df = (\n",
    "        df.copy()\n",
    "        .reset_index()\n",
    "        .melt(\n",
    "            id_vars='index',\n",
    "            value_vars=df.columns.values.tolist(),\n",
    "            var_name='metric',\n",
    "            value_name='number'\n",
    "        )\n",
    "        .sort_values('number')\n",
    "    )\n",
    "    out_df['index'] = out_df['index'].astype(str)\n",
    "    out_df= out_df.rename(columns={'index':'model_features'})\n",
    "    return out_df"
   ]
  },
  {
   "cell_type": "code",
   "execution_count": 17,
   "metadata": {
    "execution": {
     "iopub.execute_input": "2023-04-06T04:54:18.869778Z",
     "iopub.status.busy": "2023-04-06T04:54:18.869339Z",
     "iopub.status.idle": "2023-04-06T04:54:19.256488Z",
     "shell.execute_reply": "2023-04-06T04:54:19.256233Z"
    }
   },
   "outputs": [
    {
     "data": {
      "image/png": "[encoded data removed]",
      "text/plain": [
       "<Figure size 1500x500 with 3 Axes>"
      ]
     },
     "metadata": {},
     "output_type": "display_data"
    }
   ],
   "source": [
    "chart = sns.catplot(\n",
    "    x='model_features',\n",
    "    y='number',\n",
    "    col='metric',\n",
    "    data=rearrange_df(compare_train),\n",
    "    kind='bar',\n",
    "    sharey=False,\n",
    ")\n",
    "chart.set_xticklabels(rotation=90);"
   ]
  },
  {
   "cell_type": "markdown",
   "metadata": {},
   "source": [
    "Compare with peformance on the test set"
   ]
  },
  {
   "cell_type": "code",
   "execution_count": 18,
   "metadata": {
    "execution": {
     "iopub.execute_input": "2023-04-06T04:54:19.258178Z",
     "iopub.status.busy": "2023-04-06T04:54:19.258086Z",
     "iopub.status.idle": "2023-04-06T04:54:19.306276Z",
     "shell.execute_reply": "2023-04-06T04:54:19.304857Z"
    }
   },
   "outputs": [
    {
     "name": "stderr",
     "output_type": "stream",
     "text": [
      "/Users/mmat6620/.mambaforge/envs/mlpy/lib/python3.11/site-packages/sklearn/base.py:439: UserWarning: X does not have valid feature names, but LinearRegression was fitted with feature names\n",
      "  warnings.warn(\n",
      "/Users/mmat6620/.mambaforge/envs/mlpy/lib/python3.11/site-packages/sklearn/base.py:439: UserWarning: X does not have valid feature names, but LinearRegression was fitted with feature names\n",
      "  warnings.warn(\n"
     ]
    },
    {
     "data": {
      "text/html": [
       "<div>\n",
       "<style scoped>\n",
       "    .dataframe tbody tr th:only-of-type {\n",
       "        vertical-align: middle;\n",
       "    }\n",
       "\n",
       "    .dataframe tbody tr th {\n",
       "        vertical-align: top;\n",
       "    }\n",
       "\n",
       "    .dataframe thead th {\n",
       "        text-align: right;\n",
       "    }\n",
       "</style>\n",
       "<table border=\"1\" class=\"dataframe\">\n",
       "  <thead>\n",
       "    <tr style=\"text-align: right;\">\n",
       "      <th></th>\n",
       "      <th>RMSE</th>\n",
       "      <th>R2</th>\n",
       "      <th>MAE</th>\n",
       "    </tr>\n",
       "  </thead>\n",
       "  <tbody>\n",
       "    <tr>\n",
       "      <th>All</th>\n",
       "      <td>20602.458</td>\n",
       "      <td>0.928</td>\n",
       "      <td>13355.654</td>\n",
       "    </tr>\n",
       "    <tr>\n",
       "      <th>[Gr_Liv_Area, Age]</th>\n",
       "      <td>39888.647</td>\n",
       "      <td>0.729</td>\n",
       "      <td>27876.134</td>\n",
       "    </tr>\n",
       "    <tr>\n",
       "      <th>[Gr_Liv_Area, Second_Flr_SF]</th>\n",
       "      <td>49934.445</td>\n",
       "      <td>0.575</td>\n",
       "      <td>35199.582</td>\n",
       "    </tr>\n",
       "    <tr>\n",
       "      <th>Gr_Liv_Area</th>\n",
       "      <td>55373.269</td>\n",
       "      <td>0.477</td>\n",
       "      <td>37740.468</td>\n",
       "    </tr>\n",
       "    <tr>\n",
       "      <th>Second_Flr_SF</th>\n",
       "      <td>73795.736</td>\n",
       "      <td>0.071</td>\n",
       "      <td>51293.938</td>\n",
       "    </tr>\n",
       "  </tbody>\n",
       "</table>\n",
       "</div>"
      ],
      "text/plain": [
       "                                   RMSE     R2        MAE\n",
       "All                           20602.458  0.928  13355.654\n",
       "[Gr_Liv_Area, Age]            39888.647  0.729  27876.134\n",
       "[Gr_Liv_Area, Second_Flr_SF]  49934.445  0.575  35199.582\n",
       "Gr_Liv_Area                   55373.269  0.477  37740.468\n",
       "Second_Flr_SF                 73795.736  0.071  51293.938"
      ]
     },
     "execution_count": 18,
     "metadata": {},
     "output_type": "execute_result"
    }
   ],
   "source": [
    "# on the test! set\n",
    "compare = assess_fit_vars(\n",
    "    models=models,\n",
    "    variables=variables,\n",
    "    datasetX=ames_test_X,\n",
    "    datasetY=ames_test_y\n",
    ")\n",
    "compare.sort_values('RMSE')"
   ]
  },
  {
   "cell_type": "markdown",
   "metadata": {},
   "source": [
    "Let's compare the scores across train and test sets"
   ]
  },
  {
   "cell_type": "code",
   "execution_count": 19,
   "metadata": {
    "execution": {
     "iopub.execute_input": "2023-04-06T04:54:19.312117Z",
     "iopub.status.busy": "2023-04-06T04:54:19.311566Z",
     "iopub.status.idle": "2023-04-06T04:54:19.323448Z",
     "shell.execute_reply": "2023-04-06T04:54:19.320437Z"
    }
   },
   "outputs": [],
   "source": [
    "# combine test and train dfs\n",
    "def combine_train_test_res_df(df_train_scores, df_test_scores):\n",
    "    df = rearrange_df(df_train_scores)\n",
    "    df['dataset'] = 'train'\n",
    "    df1 = rearrange_df(df_test_scores)\n",
    "    df1['dataset'] = 'test'\n",
    "    return pd.concat([df, df1])"
   ]
  },
  {
   "cell_type": "code",
   "execution_count": 20,
   "metadata": {
    "execution": {
     "iopub.execute_input": "2023-04-06T04:54:19.329097Z",
     "iopub.status.busy": "2023-04-06T04:54:19.328302Z",
     "iopub.status.idle": "2023-04-06T04:54:19.823106Z",
     "shell.execute_reply": "2023-04-06T04:54:19.822866Z"
    }
   },
   "outputs": [
    {
     "data": {
      "image/png": "[encoded data removed]",
      "text/plain": [
       "<Figure size 1627.25x500 with 3 Axes>"
      ]
     },
     "metadata": {},
     "output_type": "display_data"
    }
   ],
   "source": [
    "chart = sns.catplot(\n",
    "    x='model_features',\n",
    "    y='number',\n",
    "    col='metric',\n",
    "    data=combine_train_test_res_df(compare_train, compare),\n",
    "    kind='bar',\n",
    "    sharey=False,\n",
    "    hue='dataset'\n",
    ")\n",
    "chart.set_xticklabels(rotation=90);"
   ]
  },
  {
   "cell_type": "code",
   "execution_count": 21,
   "metadata": {
    "execution": {
     "iopub.execute_input": "2023-04-06T04:54:19.824812Z",
     "iopub.status.busy": "2023-04-06T04:54:19.824716Z",
     "iopub.status.idle": "2023-04-06T04:54:19.826664Z",
     "shell.execute_reply": "2023-04-06T04:54:19.826402Z"
    },
    "pycharm": {}
   },
   "outputs": [
    {
     "name": "stdout",
     "output_type": "stream",
     "text": [
      "10\n",
      "32\n",
      "8\n"
     ]
    }
   ],
   "source": [
    "# lets explore the coefficients\n",
    "print(ames_clean.columns.get_loc('Gr_Liv_Area'))\n",
    "print(ames_clean.columns.get_loc('Age'))\n",
    "print(ames_clean.columns.get_loc('Second_Flr_SF'))"
   ]
  },
  {
   "cell_type": "markdown",
   "metadata": {},
   "source": [
    "!!! challenge \"Challenge 2\"\n",
    "    1. Explore the coefficients for Gr_Liv_Area, Second_Flr_SF,  Gr_Liv_Area + Second_Flr_SF, \n",
    "       Gr_Liv_Area + Age, and the coefficients for these parameters for a model that \n",
    "       incorporates all of them. What do you observe? Are the coefficients for each parameter        consistent among all the models?\n",
    "    2. Which model performs the best? Why? \n",
    "    3. Does the same model perform best for the training and test data? Why?\n",
    "    \n",
    "    ??? \"Solution\"\n",
    "        This is a discussion challenge. Answers will be discussed as a group. \n",
    "        To get the coefficients for each model, use the `ames_ols_GrLivArea.coef_` method.\n",
    "\n",
    "        ```python\n",
    "        ames_ols_GrLivArea.coef_\n",
    "        ames_ols_Second_Flr_SF.coef_\n",
    "        ames_ols_GrLivArea_Age.coef_\n",
    "        ames_ols_GrLivArea_Second_Flr_SF.coef_\n",
    "        ```"
   ]
  },
  {
   "cell_type": "code",
   "execution_count": 22,
   "metadata": {
    "execution": {
     "iopub.execute_input": "2023-04-06T04:54:19.828015Z",
     "iopub.status.busy": "2023-04-06T04:54:19.827930Z",
     "iopub.status.idle": "2023-04-06T04:54:19.829885Z",
     "shell.execute_reply": "2023-04-06T04:54:19.829663Z"
    }
   },
   "outputs": [],
   "source": [
    "# the below is only necessary to build the web pages; do not use for class\n",
    "# save OLS model to pickle\n",
    "pickle.dump(ames_ols_all, open(os.path.join(MODELS_FOLDER, 'ames_ols_all.pickle'), 'wb'))"
   ]
  },
  {
   "cell_type": "markdown",
   "metadata": {},
   "source": [
    "!!! keypoints \"Key points\"\n",
    "    - Regression is the prediction of the value of a continuous \n",
    "      variable based on one or more other continuous or categorical variables.\n",
    "    - Multiple types of regression can be implemented to fit the data"
   ]
  },
  {
   "cell_type": "markdown",
   "metadata": {},
   "source": [
    "## Extra: interactions"
   ]
  },
  {
   "cell_type": "markdown",
   "metadata": {},
   "source": [
    "We can also use some of the `scikit-learn` tools to create interaction\n",
    "terms, e.g. an interaction between the ground floor living area\n",
    "and second floor square footage. This is a little bit harder to integrate with \n",
    "our previous models (as we have to create a dataset with a new interaction term in it),\n",
    "so it has been kept separate:"
   ]
  },
  {
   "cell_type": "code",
   "execution_count": 23,
   "metadata": {
    "execution": {
     "iopub.execute_input": "2023-04-06T04:54:19.831293Z",
     "iopub.status.busy": "2023-04-06T04:54:19.831204Z",
     "iopub.status.idle": "2023-04-06T04:54:19.836117Z",
     "shell.execute_reply": "2023-04-06T04:54:19.835896Z"
    }
   },
   "outputs": [
    {
     "data": {
      "text/html": [
       "<style>#sk-container-id-2 {color: black;background-color: white;}#sk-container-id-2 pre{padding: 0;}#sk-container-id-2 div.sk-toggleable {background-color: white;}#sk-container-id-2 label.sk-toggleable__label {cursor: pointer;display: block;width: 100%;margin-bottom: 0;padding: 0.3em;box-sizing: border-box;text-align: center;}#sk-container-id-2 label.sk-toggleable__label-arrow:before {content: \"▸\";float: left;margin-right: 0.25em;color: #696969;}#sk-container-id-2 label.sk-toggleable__label-arrow:hover:before {color: black;}#sk-container-id-2 div.sk-estimator:hover label.sk-toggleable__label-arrow:before {color: black;}#sk-container-id-2 div.sk-toggleable__content {max-height: 0;max-width: 0;overflow: hidden;text-align: left;background-color: #f0f8ff;}#sk-container-id-2 div.sk-toggleable__content pre {margin: 0.2em;color: black;border-radius: 0.25em;background-color: #f0f8ff;}#sk-container-id-2 input.sk-toggleable__control:checked~div.sk-toggleable__content {max-height: 200px;max-width: 100%;overflow: auto;}#sk-container-id-2 input.sk-toggleable__control:checked~label.sk-toggleable__label-arrow:before {content: \"▾\";}#sk-container-id-2 div.sk-estimator input.sk-toggleable__control:checked~label.sk-toggleable__label {background-color: #d4ebff;}#sk-container-id-2 div.sk-label input.sk-toggleable__control:checked~label.sk-toggleable__label {background-color: #d4ebff;}#sk-container-id-2 input.sk-hidden--visually {border: 0;clip: rect(1px 1px 1px 1px);clip: rect(1px, 1px, 1px, 1px);height: 1px;margin: -1px;overflow: hidden;padding: 0;position: absolute;width: 1px;}#sk-container-id-2 div.sk-estimator {font-family: monospace;background-color: #f0f8ff;border: 1px dotted black;border-radius: 0.25em;box-sizing: border-box;margin-bottom: 0.5em;}#sk-container-id-2 div.sk-estimator:hover {background-color: #d4ebff;}#sk-container-id-2 div.sk-parallel-item::after {content: \"\";width: 100%;border-bottom: 1px solid gray;flex-grow: 1;}#sk-container-id-2 div.sk-label:hover label.sk-toggleable__label {background-color: #d4ebff;}#sk-container-id-2 div.sk-serial::before {content: \"\";position: absolute;border-left: 1px solid gray;box-sizing: border-box;top: 0;bottom: 0;left: 50%;z-index: 0;}#sk-container-id-2 div.sk-serial {display: flex;flex-direction: column;align-items: center;background-color: white;padding-right: 0.2em;padding-left: 0.2em;position: relative;}#sk-container-id-2 div.sk-item {position: relative;z-index: 1;}#sk-container-id-2 div.sk-parallel {display: flex;align-items: stretch;justify-content: center;background-color: white;position: relative;}#sk-container-id-2 div.sk-item::before, #sk-container-id-2 div.sk-parallel-item::before {content: \"\";position: absolute;border-left: 1px solid gray;box-sizing: border-box;top: 0;bottom: 0;left: 50%;z-index: -1;}#sk-container-id-2 div.sk-parallel-item {display: flex;flex-direction: column;z-index: 1;position: relative;background-color: white;}#sk-container-id-2 div.sk-parallel-item:first-child::after {align-self: flex-end;width: 50%;}#sk-container-id-2 div.sk-parallel-item:last-child::after {align-self: flex-start;width: 50%;}#sk-container-id-2 div.sk-parallel-item:only-child::after {width: 0;}#sk-container-id-2 div.sk-dashed-wrapped {border: 1px dashed gray;margin: 0 0.4em 0.5em 0.4em;box-sizing: border-box;padding-bottom: 0.4em;background-color: white;}#sk-container-id-2 div.sk-label label {font-family: monospace;font-weight: bold;display: inline-block;line-height: 1.2em;}#sk-container-id-2 div.sk-label-container {text-align: center;}#sk-container-id-2 div.sk-container {/* jupyter's `normalize.less` sets `[hidden] { display: none; }` but bootstrap.min.css set `[hidden] { display: none !important; }` so we also need the `!important` here to be able to override the default hidden behavior on the sphinx rendered scikit-learn.org. See: https://github.com/scikit-learn/scikit-learn/issues/21755 */display: inline-block !important;position: relative;}#sk-container-id-2 div.sk-text-repr-fallback {display: none;}</style><div id=\"sk-container-id-2\" class=\"sk-top-container\"><div class=\"sk-text-repr-fallback\"><pre>LinearRegression()</pre><b>In a Jupyter environment, please rerun this cell to show the HTML representation or trust the notebook. <br />On GitHub, the HTML representation is unable to render, please try loading this page with nbviewer.org.</b></div><div class=\"sk-container\" hidden><div class=\"sk-item\"><div class=\"sk-estimator sk-toggleable\"><input class=\"sk-toggleable__control sk-hidden--visually\" id=\"sk-estimator-id-2\" type=\"checkbox\" checked><label for=\"sk-estimator-id-2\" class=\"sk-toggleable__label sk-toggleable__label-arrow\">LinearRegression</label><div class=\"sk-toggleable__content\"><pre>LinearRegression()</pre></div></div></div></div></div>"
      ],
      "text/plain": [
       "LinearRegression()"
      ]
     },
     "execution_count": 23,
     "metadata": {},
     "output_type": "execute_result"
    }
   ],
   "source": [
    "# Create interaction term (not polynomial features) \n",
    "interaction = PolynomialFeatures(degree=2, include_bias=False, interaction_only=True) \n",
    "X_inter = interaction.fit_transform(ames_train_X[['Gr_Liv_Area','Second_Flr_SF']])\n",
    "X_inter = pd.DataFrame(\n",
    "    X_inter, \n",
    "    columns = interaction.get_feature_names_out(['Gr_Liv_Area','Second_Flr_SF'])\n",
    ")\n",
    "ames_ols_GrLivArea_Second_Flr_SF_interaction = LinearRegression() \n",
    "ames_ols_GrLivArea_Second_Flr_SF_interaction.fit(X_inter, ames_train_y)"
   ]
  },
  {
   "cell_type": "code",
   "execution_count": 24,
   "metadata": {
    "execution": {
     "iopub.execute_input": "2023-04-06T04:54:19.837398Z",
     "iopub.status.busy": "2023-04-06T04:54:19.837328Z",
     "iopub.status.idle": "2023-04-06T04:54:19.841312Z",
     "shell.execute_reply": "2023-04-06T04:54:19.841113Z"
    }
   },
   "outputs": [
    {
     "data": {
      "text/html": [
       "<div>\n",
       "<style scoped>\n",
       "    .dataframe tbody tr th:only-of-type {\n",
       "        vertical-align: middle;\n",
       "    }\n",
       "\n",
       "    .dataframe tbody tr th {\n",
       "        vertical-align: top;\n",
       "    }\n",
       "\n",
       "    .dataframe thead th {\n",
       "        text-align: right;\n",
       "    }\n",
       "</style>\n",
       "<table border=\"1\" class=\"dataframe\">\n",
       "  <thead>\n",
       "    <tr style=\"text-align: right;\">\n",
       "      <th></th>\n",
       "      <th>RMSE</th>\n",
       "      <th>R2</th>\n",
       "      <th>MAE</th>\n",
       "    </tr>\n",
       "  </thead>\n",
       "  <tbody>\n",
       "    <tr>\n",
       "      <th>All</th>\n",
       "      <td>55222.314</td>\n",
       "      <td>0.516</td>\n",
       "      <td>36406.468</td>\n",
       "    </tr>\n",
       "  </tbody>\n",
       "</table>\n",
       "</div>"
      ],
      "text/plain": [
       "          RMSE     R2        MAE\n",
       "All  55222.314  0.516  36406.468"
      ]
     },
     "execution_count": 24,
     "metadata": {},
     "output_type": "execute_result"
    }
   ],
   "source": [
    "# Training performance\n",
    "assess_fit_vars(\n",
    "    models=[ames_ols_GrLivArea_Second_Flr_SF_interaction], \n",
    "    variables=[\"All\"], \n",
    "    datasetX=X_inter, datasetY=ames_train_y\n",
    ")"
   ]
  },
  {
   "cell_type": "code",
   "execution_count": 25,
   "metadata": {
    "execution": {
     "iopub.execute_input": "2023-04-06T04:54:19.842594Z",
     "iopub.status.busy": "2023-04-06T04:54:19.842527Z",
     "iopub.status.idle": "2023-04-06T04:54:19.847508Z",
     "shell.execute_reply": "2023-04-06T04:54:19.847285Z"
    }
   },
   "outputs": [
    {
     "data": {
      "text/html": [
       "<div>\n",
       "<style scoped>\n",
       "    .dataframe tbody tr th:only-of-type {\n",
       "        vertical-align: middle;\n",
       "    }\n",
       "\n",
       "    .dataframe tbody tr th {\n",
       "        vertical-align: top;\n",
       "    }\n",
       "\n",
       "    .dataframe thead th {\n",
       "        text-align: right;\n",
       "    }\n",
       "</style>\n",
       "<table border=\"1\" class=\"dataframe\">\n",
       "  <thead>\n",
       "    <tr style=\"text-align: right;\">\n",
       "      <th></th>\n",
       "      <th>RMSE</th>\n",
       "      <th>R2</th>\n",
       "      <th>MAE</th>\n",
       "    </tr>\n",
       "  </thead>\n",
       "  <tbody>\n",
       "    <tr>\n",
       "      <th>All</th>\n",
       "      <td>49301.482</td>\n",
       "      <td>0.585</td>\n",
       "      <td>35003.994</td>\n",
       "    </tr>\n",
       "  </tbody>\n",
       "</table>\n",
       "</div>"
      ],
      "text/plain": [
       "          RMSE     R2        MAE\n",
       "All  49301.482  0.585  35003.994"
      ]
     },
     "execution_count": 25,
     "metadata": {},
     "output_type": "execute_result"
    }
   ],
   "source": [
    "# Test performance\n",
    "X_inter_test = interaction.fit_transform(ames_test_X[['Gr_Liv_Area','Second_Flr_SF']])\n",
    "X_inter_test = pd.DataFrame(\n",
    "    X_inter_test, \n",
    "    columns = interaction.get_feature_names_out(['Gr_Liv_Area','Second_Flr_SF'])\n",
    ")\n",
    "\n",
    "assess_fit_vars(\n",
    "    models=[ames_ols_GrLivArea_Second_Flr_SF_interaction], \n",
    "    variables=[\"All\"], \n",
    "    datasetX=X_inter_test, datasetY=ames_test_y\n",
    ")"
   ]
  }
 ],
 "metadata": {
  "kernelspec": {
   "display_name": "mlpy",
   "language": "python",
   "name": "python3"
  },
  "language_info": {
   "codemirror_mode": {
    "name": "ipython",
    "version": 3
   },
   "file_extension": ".py",
   "mimetype": "text/x-python",
   "name": "python",
   "nbconvert_exporter": "python",
   "pygments_lexer": "ipython3",
   "version": "3.11.2"
  },
  "vscode": {
   "interpreter": {
    "hash": "c42649b7c6723e0ce7637bf338e64d7f18b7d69eac586fe7b2724e2daa02b725"
   }
  }
 },
 "nbformat": 4,
 "nbformat_minor": 4
}
